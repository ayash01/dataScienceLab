{
  "cells": [
    {
      "cell_type": "code",
      "execution_count": 18,
      "metadata": {
        "id": "Mqt_ge8XgiW2"
      },
      "outputs": [],
      "source": [
        "import pandas as pd"
      ]
    },
    {
      "cell_type": "code",
      "execution_count": 19,
      "metadata": {
        "id": "mJvH8-GlglCV"
      },
      "outputs": [],
      "source": [
        "df =  pd.read_csv('../../res/weightdata.csv')"
      ]
    },
    {
      "cell_type": "code",
      "execution_count": 20,
      "metadata": {
        "id": "HVJRHtspg9Me"
      },
      "outputs": [],
      "source": [
        "weights = df['Weight(Pounds)']"
      ]
    },
    {
      "cell_type": "code",
      "execution_count": 21,
      "metadata": {
        "id": "0D7Wj0f6hGCu"
      },
      "outputs": [],
      "source": [
        "Q1 = weights.quantile(0.25)\n",
        "Q3 = weights.quantile(0.75)\n",
        "\n",
        "IQR = Q3 - Q1\n"
      ]
    },
    {
      "cell_type": "code",
      "execution_count": 22,
      "metadata": {
        "id": "kO6jKu1xhZ8-"
      },
      "outputs": [
        {
          "data": {
            "text/html": [
              "<div>\n",
              "<style scoped>\n",
              "    .dataframe tbody tr th:only-of-type {\n",
              "        vertical-align: middle;\n",
              "    }\n",
              "\n",
              "    .dataframe tbody tr th {\n",
              "        vertical-align: top;\n",
              "    }\n",
              "\n",
              "    .dataframe thead th {\n",
              "        text-align: right;\n",
              "    }\n",
              "</style>\n",
              "<table border=\"1\" class=\"dataframe\">\n",
              "  <thead>\n",
              "    <tr style=\"text-align: right;\">\n",
              "      <th></th>\n",
              "      <th>Index</th>\n",
              "      <th>Weight(Pounds)</th>\n",
              "    </tr>\n",
              "  </thead>\n",
              "  <tbody>\n",
              "    <tr>\n",
              "      <th>156</th>\n",
              "      <td>157</td>\n",
              "      <td>158.95620</td>\n",
              "    </tr>\n",
              "    <tr>\n",
              "      <th>249</th>\n",
              "      <td>250</td>\n",
              "      <td>84.35980</td>\n",
              "    </tr>\n",
              "    <tr>\n",
              "      <th>293</th>\n",
              "      <td>294</td>\n",
              "      <td>92.74955</td>\n",
              "    </tr>\n",
              "    <tr>\n",
              "      <th>367</th>\n",
              "      <td>368</td>\n",
              "      <td>168.22900</td>\n",
              "    </tr>\n",
              "    <tr>\n",
              "      <th>446</th>\n",
              "      <td>447</td>\n",
              "      <td>162.41090</td>\n",
              "    </tr>\n",
              "    <tr>\n",
              "      <th>...</th>\n",
              "      <td>...</td>\n",
              "      <td>...</td>\n",
              "    </tr>\n",
              "    <tr>\n",
              "      <th>24187</th>\n",
              "      <td>24188</td>\n",
              "      <td>161.85040</td>\n",
              "    </tr>\n",
              "    <tr>\n",
              "      <th>24610</th>\n",
              "      <td>24611</td>\n",
              "      <td>82.38298</td>\n",
              "    </tr>\n",
              "    <tr>\n",
              "      <th>24750</th>\n",
              "      <td>24751</td>\n",
              "      <td>159.63440</td>\n",
              "    </tr>\n",
              "    <tr>\n",
              "      <th>24835</th>\n",
              "      <td>24836</td>\n",
              "      <td>94.40946</td>\n",
              "    </tr>\n",
              "    <tr>\n",
              "      <th>24889</th>\n",
              "      <td>24890</td>\n",
              "      <td>161.85320</td>\n",
              "    </tr>\n",
              "  </tbody>\n",
              "</table>\n",
              "<p>191 rows × 2 columns</p>\n",
              "</div>"
            ],
            "text/plain": [
              "       Index  Weight(Pounds)\n",
              "156      157       158.95620\n",
              "249      250        84.35980\n",
              "293      294        92.74955\n",
              "367      368       168.22900\n",
              "446      447       162.41090\n",
              "...      ...             ...\n",
              "24187  24188       161.85040\n",
              "24610  24611        82.38298\n",
              "24750  24751       159.63440\n",
              "24835  24836        94.40946\n",
              "24889  24890       161.85320\n",
              "\n",
              "[191 rows x 2 columns]"
            ]
          },
          "execution_count": 22,
          "metadata": {},
          "output_type": "execute_result"
        }
      ],
      "source": [
        "threshold = 1.5\n",
        "\n",
        "outliers = df[(df['Weight(Pounds)'] > Q3 + ( threshold * IQR ) ) | ( df['Weight(Pounds)'] < ( Q1 - ( threshold * IQR )) )]\n",
        "outliers"
      ]
    }
  ],
  "metadata": {
    "colab": {
      "provenance": []
    },
    "kernelspec": {
      "display_name": "Python 3",
      "name": "python3"
    },
    "language_info": {
      "codemirror_mode": {
        "name": "ipython",
        "version": 3
      },
      "file_extension": ".py",
      "mimetype": "text/x-python",
      "name": "python",
      "nbconvert_exporter": "python",
      "pygments_lexer": "ipython3",
      "version": "3.12.1"
    }
  },
  "nbformat": 4,
  "nbformat_minor": 0
}
