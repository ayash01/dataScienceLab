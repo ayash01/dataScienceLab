{
  "cells": [
    {
      "cell_type": "code",
      "execution_count": 23,
      "metadata": {
        "id": "2rd7PY_Jw6Ox"
      },
      "outputs": [],
      "source": [
        "import pandas as pd"
      ]
    },
    {
      "cell_type": "code",
      "execution_count": 24,
      "metadata": {
        "id": "9U95nTwDw8Dw"
      },
      "outputs": [],
      "source": [
        "df =  pd.read_csv('../../res/weightdata.csv')"
      ]
    },
    {
      "cell_type": "code",
      "execution_count": 25,
      "metadata": {
        "id": "9YMp5uXpxBd8"
      },
      "outputs": [],
      "source": [
        "weights = df['Weight(Pounds)']"
      ]
    },
    {
      "cell_type": "code",
      "execution_count": 26,
      "metadata": {
        "id": "0UnD44gGxDAI"
      },
      "outputs": [
        {
          "name": "stdout",
          "output_type": "stream",
          "text": [
            "127.07942116080001 11.660897563604278\n"
          ]
        }
      ],
      "source": [
        "weight_mean = weights.mean()\n",
        "weight_std = weights.std()\n",
        "\n",
        "print(weight_mean, weight_std)"
      ]
    },
    {
      "cell_type": "code",
      "execution_count": 27,
      "metadata": {
        "id": "apuibMfNxVLI"
      },
      "outputs": [
        {
          "data": {
            "text/html": [
              "<div>\n",
              "<style scoped>\n",
              "    .dataframe tbody tr th:only-of-type {\n",
              "        vertical-align: middle;\n",
              "    }\n",
              "\n",
              "    .dataframe tbody tr th {\n",
              "        vertical-align: top;\n",
              "    }\n",
              "\n",
              "    .dataframe thead th {\n",
              "        text-align: right;\n",
              "    }\n",
              "</style>\n",
              "<table border=\"1\" class=\"dataframe\">\n",
              "  <thead>\n",
              "    <tr style=\"text-align: right;\">\n",
              "      <th></th>\n",
              "      <th>Index</th>\n",
              "      <th>Weight(Pounds)</th>\n",
              "    </tr>\n",
              "  </thead>\n",
              "  <tbody>\n",
              "    <tr>\n",
              "      <th>249</th>\n",
              "      <td>250</td>\n",
              "      <td>84.35980</td>\n",
              "    </tr>\n",
              "    <tr>\n",
              "      <th>367</th>\n",
              "      <td>368</td>\n",
              "      <td>168.22900</td>\n",
              "    </tr>\n",
              "    <tr>\n",
              "      <th>446</th>\n",
              "      <td>447</td>\n",
              "      <td>162.41090</td>\n",
              "    </tr>\n",
              "    <tr>\n",
              "      <th>727</th>\n",
              "      <td>728</td>\n",
              "      <td>83.08527</td>\n",
              "    </tr>\n",
              "    <tr>\n",
              "      <th>1332</th>\n",
              "      <td>1333</td>\n",
              "      <td>162.87370</td>\n",
              "    </tr>\n",
              "    <tr>\n",
              "      <th>...</th>\n",
              "      <td>...</td>\n",
              "      <td>...</td>\n",
              "    </tr>\n",
              "    <tr>\n",
              "      <th>21101</th>\n",
              "      <td>21102</td>\n",
              "      <td>85.98927</td>\n",
              "    </tr>\n",
              "    <tr>\n",
              "      <th>22282</th>\n",
              "      <td>22283</td>\n",
              "      <td>91.37972</td>\n",
              "    </tr>\n",
              "    <tr>\n",
              "      <th>22738</th>\n",
              "      <td>22739</td>\n",
              "      <td>87.80417</td>\n",
              "    </tr>\n",
              "    <tr>\n",
              "      <th>22945</th>\n",
              "      <td>22946</td>\n",
              "      <td>78.01476</td>\n",
              "    </tr>\n",
              "    <tr>\n",
              "      <th>24610</th>\n",
              "      <td>24611</td>\n",
              "      <td>82.38298</td>\n",
              "    </tr>\n",
              "  </tbody>\n",
              "</table>\n",
              "<p>69 rows × 2 columns</p>\n",
              "</div>"
            ],
            "text/plain": [
              "       Index  Weight(Pounds)\n",
              "249      250        84.35980\n",
              "367      368       168.22900\n",
              "446      447       162.41090\n",
              "727      728        83.08527\n",
              "1332    1333       162.87370\n",
              "...      ...             ...\n",
              "21101  21102        85.98927\n",
              "22282  22283        91.37972\n",
              "22738  22739        87.80417\n",
              "22945  22946        78.01476\n",
              "24610  24611        82.38298\n",
              "\n",
              "[69 rows x 2 columns]"
            ]
          },
          "execution_count": 27,
          "metadata": {},
          "output_type": "execute_result"
        }
      ],
      "source": [
        "threshold = 3\n",
        "\n",
        "outliers = df[(df['Weight(Pounds)'] > ( weight_mean + ( threshold * weight_std) )) | (df['Weight(Pounds)'] < weight_mean - (threshold * weight_std))]\n",
        "\n",
        "outliers"
      ]
    },
    {
      "cell_type": "code",
      "execution_count": null,
      "metadata": {
        "colab": {
          "base_uri": "https://localhost:8080/"
        },
        "id": "-n97efFPzg-z",
        "outputId": "1e14a8b3-686e-42d1-a86a-c4c31207edec"
      },
      "outputs": [],
      "source": []
    }
  ],
  "metadata": {
    "colab": {
      "provenance": []
    },
    "kernelspec": {
      "display_name": "Python 3",
      "name": "python3"
    },
    "language_info": {
      "codemirror_mode": {
        "name": "ipython",
        "version": 3
      },
      "file_extension": ".py",
      "mimetype": "text/x-python",
      "name": "python",
      "nbconvert_exporter": "python",
      "pygments_lexer": "ipython3",
      "version": "3.12.1"
    }
  },
  "nbformat": 4,
  "nbformat_minor": 0
}
